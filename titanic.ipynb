{
 "cells": [
  {
   "cell_type": "code",
   "execution_count": 1,
   "id": "5b3d0f4b",
   "metadata": {
    "_cell_guid": "b1076dfc-b9ad-4769-8c92-a6c4dae69d19",
    "_uuid": "8f2839f25d086af736a60e9eeb907d3b93b6e0e5",
    "execution": {
     "iopub.execute_input": "2024-11-16T18:49:44.592595Z",
     "iopub.status.busy": "2024-11-16T18:49:44.592158Z",
     "iopub.status.idle": "2024-11-16T18:49:46.919690Z",
     "shell.execute_reply": "2024-11-16T18:49:46.918582Z"
    },
    "papermill": {
     "duration": 2.340301,
     "end_time": "2024-11-16T18:49:46.922424",
     "exception": false,
     "start_time": "2024-11-16T18:49:44.582123",
     "status": "completed"
    },
    "tags": []
   },
   "outputs": [],
   "source": [
    "import numpy as np # linear algebra\n",
    "import pandas as pd # data processing, CSV file I/O (e.g. pd.read_csv)\n",
    "import matplotlib\n",
    "from sklearn.model_selection import train_test_split\n",
    "\n",
    "from sklearn.model_selection import cross_val_score"
   ]
  },
  {
   "cell_type": "code",
   "execution_count": 2,
   "id": "7fc32596",
   "metadata": {
    "execution": {
     "iopub.execute_input": "2024-11-16T18:49:46.938176Z",
     "iopub.status.busy": "2024-11-16T18:49:46.937631Z",
     "iopub.status.idle": "2024-11-16T18:49:46.967390Z",
     "shell.execute_reply": "2024-11-16T18:49:46.966006Z"
    },
    "papermill": {
     "duration": 0.040772,
     "end_time": "2024-11-16T18:49:46.970353",
     "exception": false,
     "start_time": "2024-11-16T18:49:46.929581",
     "status": "completed"
    },
    "tags": []
   },
   "outputs": [],
   "source": [
    "titanic = pd.read_csv('/kaggle/input/titanic/train.csv')\n",
    "sub_set = pd.read_csv('/kaggle/input/titanic/test.csv')"
   ]
  },
  {
   "cell_type": "code",
   "execution_count": 3,
   "id": "c3d94a13",
   "metadata": {
    "execution": {
     "iopub.execute_input": "2024-11-16T18:49:46.986688Z",
     "iopub.status.busy": "2024-11-16T18:49:46.986271Z",
     "iopub.status.idle": "2024-11-16T18:49:47.014844Z",
     "shell.execute_reply": "2024-11-16T18:49:47.013662Z"
    },
    "papermill": {
     "duration": 0.039948,
     "end_time": "2024-11-16T18:49:47.017378",
     "exception": false,
     "start_time": "2024-11-16T18:49:46.977430",
     "status": "completed"
    },
    "tags": []
   },
   "outputs": [
    {
     "data": {
      "text/html": [
       "<div>\n",
       "<style scoped>\n",
       "    .dataframe tbody tr th:only-of-type {\n",
       "        vertical-align: middle;\n",
       "    }\n",
       "\n",
       "    .dataframe tbody tr th {\n",
       "        vertical-align: top;\n",
       "    }\n",
       "\n",
       "    .dataframe thead th {\n",
       "        text-align: right;\n",
       "    }\n",
       "</style>\n",
       "<table border=\"1\" class=\"dataframe\">\n",
       "  <thead>\n",
       "    <tr style=\"text-align: right;\">\n",
       "      <th></th>\n",
       "      <th>PassengerId</th>\n",
       "      <th>Survived</th>\n",
       "      <th>Pclass</th>\n",
       "      <th>Name</th>\n",
       "      <th>Sex</th>\n",
       "      <th>Age</th>\n",
       "      <th>SibSp</th>\n",
       "      <th>Parch</th>\n",
       "      <th>Ticket</th>\n",
       "      <th>Fare</th>\n",
       "      <th>Cabin</th>\n",
       "      <th>Embarked</th>\n",
       "    </tr>\n",
       "  </thead>\n",
       "  <tbody>\n",
       "    <tr>\n",
       "      <th>0</th>\n",
       "      <td>1</td>\n",
       "      <td>0</td>\n",
       "      <td>3</td>\n",
       "      <td>Braund, Mr. Owen Harris</td>\n",
       "      <td>male</td>\n",
       "      <td>22.0</td>\n",
       "      <td>1</td>\n",
       "      <td>0</td>\n",
       "      <td>A/5 21171</td>\n",
       "      <td>7.2500</td>\n",
       "      <td>NaN</td>\n",
       "      <td>S</td>\n",
       "    </tr>\n",
       "    <tr>\n",
       "      <th>1</th>\n",
       "      <td>2</td>\n",
       "      <td>1</td>\n",
       "      <td>1</td>\n",
       "      <td>Cumings, Mrs. John Bradley (Florence Briggs Th...</td>\n",
       "      <td>female</td>\n",
       "      <td>38.0</td>\n",
       "      <td>1</td>\n",
       "      <td>0</td>\n",
       "      <td>PC 17599</td>\n",
       "      <td>71.2833</td>\n",
       "      <td>C85</td>\n",
       "      <td>C</td>\n",
       "    </tr>\n",
       "    <tr>\n",
       "      <th>2</th>\n",
       "      <td>3</td>\n",
       "      <td>1</td>\n",
       "      <td>3</td>\n",
       "      <td>Heikkinen, Miss. Laina</td>\n",
       "      <td>female</td>\n",
       "      <td>26.0</td>\n",
       "      <td>0</td>\n",
       "      <td>0</td>\n",
       "      <td>STON/O2. 3101282</td>\n",
       "      <td>7.9250</td>\n",
       "      <td>NaN</td>\n",
       "      <td>S</td>\n",
       "    </tr>\n",
       "  </tbody>\n",
       "</table>\n",
       "</div>"
      ],
      "text/plain": [
       "   PassengerId  Survived  Pclass  \\\n",
       "0            1         0       3   \n",
       "1            2         1       1   \n",
       "2            3         1       3   \n",
       "\n",
       "                                                Name     Sex   Age  SibSp  \\\n",
       "0                            Braund, Mr. Owen Harris    male  22.0      1   \n",
       "1  Cumings, Mrs. John Bradley (Florence Briggs Th...  female  38.0      1   \n",
       "2                             Heikkinen, Miss. Laina  female  26.0      0   \n",
       "\n",
       "   Parch            Ticket     Fare Cabin Embarked  \n",
       "0      0         A/5 21171   7.2500   NaN        S  \n",
       "1      0          PC 17599  71.2833   C85        C  \n",
       "2      0  STON/O2. 3101282   7.9250   NaN        S  "
      ]
     },
     "execution_count": 3,
     "metadata": {},
     "output_type": "execute_result"
    }
   ],
   "source": [
    "titanic.head(3)"
   ]
  },
  {
   "cell_type": "code",
   "execution_count": 4,
   "id": "7f7575c8",
   "metadata": {
    "execution": {
     "iopub.execute_input": "2024-11-16T18:49:47.034010Z",
     "iopub.status.busy": "2024-11-16T18:49:47.033625Z",
     "iopub.status.idle": "2024-11-16T18:49:47.063881Z",
     "shell.execute_reply": "2024-11-16T18:49:47.062610Z"
    },
    "papermill": {
     "duration": 0.041209,
     "end_time": "2024-11-16T18:49:47.066328",
     "exception": false,
     "start_time": "2024-11-16T18:49:47.025119",
     "status": "completed"
    },
    "tags": []
   },
   "outputs": [
    {
     "name": "stdout",
     "output_type": "stream",
     "text": [
      "<class 'pandas.core.frame.DataFrame'>\n",
      "RangeIndex: 891 entries, 0 to 890\n",
      "Data columns (total 12 columns):\n",
      " #   Column       Non-Null Count  Dtype  \n",
      "---  ------       --------------  -----  \n",
      " 0   PassengerId  891 non-null    int64  \n",
      " 1   Survived     891 non-null    int64  \n",
      " 2   Pclass       891 non-null    int64  \n",
      " 3   Name         891 non-null    object \n",
      " 4   Sex          891 non-null    object \n",
      " 5   Age          714 non-null    float64\n",
      " 6   SibSp        891 non-null    int64  \n",
      " 7   Parch        891 non-null    int64  \n",
      " 8   Ticket       891 non-null    object \n",
      " 9   Fare         891 non-null    float64\n",
      " 10  Cabin        204 non-null    object \n",
      " 11  Embarked     889 non-null    object \n",
      "dtypes: float64(2), int64(5), object(5)\n",
      "memory usage: 83.7+ KB\n"
     ]
    }
   ],
   "source": [
    "titanic.info()"
   ]
  },
  {
   "cell_type": "code",
   "execution_count": 5,
   "id": "29c2d6fc",
   "metadata": {
    "execution": {
     "iopub.execute_input": "2024-11-16T18:49:47.084448Z",
     "iopub.status.busy": "2024-11-16T18:49:47.083160Z",
     "iopub.status.idle": "2024-11-16T18:49:47.115661Z",
     "shell.execute_reply": "2024-11-16T18:49:47.114350Z"
    },
    "papermill": {
     "duration": 0.043918,
     "end_time": "2024-11-16T18:49:47.118600",
     "exception": false,
     "start_time": "2024-11-16T18:49:47.074682",
     "status": "completed"
    },
    "tags": []
   },
   "outputs": [
    {
     "data": {
      "text/html": [
       "<div>\n",
       "<style scoped>\n",
       "    .dataframe tbody tr th:only-of-type {\n",
       "        vertical-align: middle;\n",
       "    }\n",
       "\n",
       "    .dataframe tbody tr th {\n",
       "        vertical-align: top;\n",
       "    }\n",
       "\n",
       "    .dataframe thead th {\n",
       "        text-align: right;\n",
       "    }\n",
       "</style>\n",
       "<table border=\"1\" class=\"dataframe\">\n",
       "  <thead>\n",
       "    <tr style=\"text-align: right;\">\n",
       "      <th></th>\n",
       "      <th>PassengerId</th>\n",
       "      <th>Survived</th>\n",
       "      <th>Pclass</th>\n",
       "      <th>Age</th>\n",
       "      <th>SibSp</th>\n",
       "      <th>Parch</th>\n",
       "      <th>Fare</th>\n",
       "    </tr>\n",
       "  </thead>\n",
       "  <tbody>\n",
       "    <tr>\n",
       "      <th>count</th>\n",
       "      <td>891.000000</td>\n",
       "      <td>891.000000</td>\n",
       "      <td>891.000000</td>\n",
       "      <td>714.000000</td>\n",
       "      <td>891.000000</td>\n",
       "      <td>891.000000</td>\n",
       "      <td>891.000000</td>\n",
       "    </tr>\n",
       "    <tr>\n",
       "      <th>mean</th>\n",
       "      <td>446.000000</td>\n",
       "      <td>0.383838</td>\n",
       "      <td>2.308642</td>\n",
       "      <td>29.699118</td>\n",
       "      <td>0.523008</td>\n",
       "      <td>0.381594</td>\n",
       "      <td>32.204208</td>\n",
       "    </tr>\n",
       "    <tr>\n",
       "      <th>std</th>\n",
       "      <td>257.353842</td>\n",
       "      <td>0.486592</td>\n",
       "      <td>0.836071</td>\n",
       "      <td>14.526497</td>\n",
       "      <td>1.102743</td>\n",
       "      <td>0.806057</td>\n",
       "      <td>49.693429</td>\n",
       "    </tr>\n",
       "    <tr>\n",
       "      <th>min</th>\n",
       "      <td>1.000000</td>\n",
       "      <td>0.000000</td>\n",
       "      <td>1.000000</td>\n",
       "      <td>0.420000</td>\n",
       "      <td>0.000000</td>\n",
       "      <td>0.000000</td>\n",
       "      <td>0.000000</td>\n",
       "    </tr>\n",
       "    <tr>\n",
       "      <th>25%</th>\n",
       "      <td>223.500000</td>\n",
       "      <td>0.000000</td>\n",
       "      <td>2.000000</td>\n",
       "      <td>20.125000</td>\n",
       "      <td>0.000000</td>\n",
       "      <td>0.000000</td>\n",
       "      <td>7.910400</td>\n",
       "    </tr>\n",
       "    <tr>\n",
       "      <th>50%</th>\n",
       "      <td>446.000000</td>\n",
       "      <td>0.000000</td>\n",
       "      <td>3.000000</td>\n",
       "      <td>28.000000</td>\n",
       "      <td>0.000000</td>\n",
       "      <td>0.000000</td>\n",
       "      <td>14.454200</td>\n",
       "    </tr>\n",
       "    <tr>\n",
       "      <th>75%</th>\n",
       "      <td>668.500000</td>\n",
       "      <td>1.000000</td>\n",
       "      <td>3.000000</td>\n",
       "      <td>38.000000</td>\n",
       "      <td>1.000000</td>\n",
       "      <td>0.000000</td>\n",
       "      <td>31.000000</td>\n",
       "    </tr>\n",
       "    <tr>\n",
       "      <th>max</th>\n",
       "      <td>891.000000</td>\n",
       "      <td>1.000000</td>\n",
       "      <td>3.000000</td>\n",
       "      <td>80.000000</td>\n",
       "      <td>8.000000</td>\n",
       "      <td>6.000000</td>\n",
       "      <td>512.329200</td>\n",
       "    </tr>\n",
       "  </tbody>\n",
       "</table>\n",
       "</div>"
      ],
      "text/plain": [
       "       PassengerId    Survived      Pclass         Age       SibSp  \\\n",
       "count   891.000000  891.000000  891.000000  714.000000  891.000000   \n",
       "mean    446.000000    0.383838    2.308642   29.699118    0.523008   \n",
       "std     257.353842    0.486592    0.836071   14.526497    1.102743   \n",
       "min       1.000000    0.000000    1.000000    0.420000    0.000000   \n",
       "25%     223.500000    0.000000    2.000000   20.125000    0.000000   \n",
       "50%     446.000000    0.000000    3.000000   28.000000    0.000000   \n",
       "75%     668.500000    1.000000    3.000000   38.000000    1.000000   \n",
       "max     891.000000    1.000000    3.000000   80.000000    8.000000   \n",
       "\n",
       "            Parch        Fare  \n",
       "count  891.000000  891.000000  \n",
       "mean     0.381594   32.204208  \n",
       "std      0.806057   49.693429  \n",
       "min      0.000000    0.000000  \n",
       "25%      0.000000    7.910400  \n",
       "50%      0.000000   14.454200  \n",
       "75%      0.000000   31.000000  \n",
       "max      6.000000  512.329200  "
      ]
     },
     "execution_count": 5,
     "metadata": {},
     "output_type": "execute_result"
    }
   ],
   "source": [
    "titanic.select_dtypes(include=['int64', 'float64']).describe()"
   ]
  },
  {
   "cell_type": "code",
   "execution_count": 6,
   "id": "651ee5a0",
   "metadata": {
    "execution": {
     "iopub.execute_input": "2024-11-16T18:49:47.137029Z",
     "iopub.status.busy": "2024-11-16T18:49:47.136621Z",
     "iopub.status.idle": "2024-11-16T18:49:47.162582Z",
     "shell.execute_reply": "2024-11-16T18:49:47.161064Z"
    },
    "papermill": {
     "duration": 0.038395,
     "end_time": "2024-11-16T18:49:47.165336",
     "exception": false,
     "start_time": "2024-11-16T18:49:47.126941",
     "status": "completed"
    },
    "tags": []
   },
   "outputs": [
    {
     "data": {
      "text/html": [
       "<div>\n",
       "<style scoped>\n",
       "    .dataframe tbody tr th:only-of-type {\n",
       "        vertical-align: middle;\n",
       "    }\n",
       "\n",
       "    .dataframe tbody tr th {\n",
       "        vertical-align: top;\n",
       "    }\n",
       "\n",
       "    .dataframe thead th {\n",
       "        text-align: right;\n",
       "    }\n",
       "</style>\n",
       "<table border=\"1\" class=\"dataframe\">\n",
       "  <thead>\n",
       "    <tr style=\"text-align: right;\">\n",
       "      <th></th>\n",
       "      <th>Name</th>\n",
       "      <th>Sex</th>\n",
       "      <th>Ticket</th>\n",
       "      <th>Cabin</th>\n",
       "      <th>Embarked</th>\n",
       "    </tr>\n",
       "  </thead>\n",
       "  <tbody>\n",
       "    <tr>\n",
       "      <th>count</th>\n",
       "      <td>891</td>\n",
       "      <td>891</td>\n",
       "      <td>891</td>\n",
       "      <td>204</td>\n",
       "      <td>889</td>\n",
       "    </tr>\n",
       "    <tr>\n",
       "      <th>unique</th>\n",
       "      <td>891</td>\n",
       "      <td>2</td>\n",
       "      <td>681</td>\n",
       "      <td>147</td>\n",
       "      <td>3</td>\n",
       "    </tr>\n",
       "    <tr>\n",
       "      <th>top</th>\n",
       "      <td>Braund, Mr. Owen Harris</td>\n",
       "      <td>male</td>\n",
       "      <td>347082</td>\n",
       "      <td>B96 B98</td>\n",
       "      <td>S</td>\n",
       "    </tr>\n",
       "    <tr>\n",
       "      <th>freq</th>\n",
       "      <td>1</td>\n",
       "      <td>577</td>\n",
       "      <td>7</td>\n",
       "      <td>4</td>\n",
       "      <td>644</td>\n",
       "    </tr>\n",
       "  </tbody>\n",
       "</table>\n",
       "</div>"
      ],
      "text/plain": [
       "                           Name   Sex  Ticket    Cabin Embarked\n",
       "count                       891   891     891      204      889\n",
       "unique                      891     2     681      147        3\n",
       "top     Braund, Mr. Owen Harris  male  347082  B96 B98        S\n",
       "freq                          1   577       7        4      644"
      ]
     },
     "execution_count": 6,
     "metadata": {},
     "output_type": "execute_result"
    }
   ],
   "source": [
    "titanic.select_dtypes(include=['object']).describe()"
   ]
  },
  {
   "cell_type": "markdown",
   "id": "374620bf",
   "metadata": {
    "papermill": {
     "duration": 0.007803,
     "end_time": "2024-11-16T18:49:47.181641",
     "exception": false,
     "start_time": "2024-11-16T18:49:47.173838",
     "status": "completed"
    },
    "tags": []
   },
   "source": [
    "## **1 - Handling missing data**"
   ]
  },
  {
   "cell_type": "markdown",
   "id": "fbe0867a",
   "metadata": {
    "papermill": {
     "duration": 0.007736,
     "end_time": "2024-11-16T18:49:47.197063",
     "exception": false,
     "start_time": "2024-11-16T18:49:47.189327",
     "status": "completed"
    },
    "tags": []
   },
   "source": [
    "There's missing data in 3 columns : \n",
    "- Age\n",
    "- Cabin\n",
    "- Embarked\n",
    "\n",
    "There's too much missing data for Cabin, we will just drop the column, for Embarked, we will fill the NaN's by the most frequent value (or search for people with the same family name as the people with missing value)\n",
    "For Age, we will replace the NaN's by the average of age."
   ]
  },
  {
   "cell_type": "code",
   "execution_count": 7,
   "id": "5659423f",
   "metadata": {
    "execution": {
     "iopub.execute_input": "2024-11-16T18:49:47.215689Z",
     "iopub.status.busy": "2024-11-16T18:49:47.215292Z",
     "iopub.status.idle": "2024-11-16T18:49:47.221763Z",
     "shell.execute_reply": "2024-11-16T18:49:47.220361Z"
    },
    "papermill": {
     "duration": 0.018772,
     "end_time": "2024-11-16T18:49:47.224376",
     "exception": false,
     "start_time": "2024-11-16T18:49:47.205604",
     "status": "completed"
    },
    "tags": []
   },
   "outputs": [],
   "source": [
    "titanic_cab = titanic\n",
    "titanic_cab['Cabin'] = titanic_cab['Cabin'].isnull().astype('int64')"
   ]
  },
  {
   "cell_type": "markdown",
   "id": "46ee328f",
   "metadata": {
    "papermill": {
     "duration": 0.007395,
     "end_time": "2024-11-16T18:49:47.239521",
     "exception": false,
     "start_time": "2024-11-16T18:49:47.232126",
     "status": "completed"
    },
    "tags": []
   },
   "source": [
    "#She seems to be french"
   ]
  },
  {
   "cell_type": "code",
   "execution_count": 8,
   "id": "a00cb17e",
   "metadata": {
    "execution": {
     "iopub.execute_input": "2024-11-16T18:49:47.256847Z",
     "iopub.status.busy": "2024-11-16T18:49:47.256393Z",
     "iopub.status.idle": "2024-11-16T18:49:47.262726Z",
     "shell.execute_reply": "2024-11-16T18:49:47.261321Z"
    },
    "papermill": {
     "duration": 0.018211,
     "end_time": "2024-11-16T18:49:47.265592",
     "exception": false,
     "start_time": "2024-11-16T18:49:47.247381",
     "status": "completed"
    },
    "tags": []
   },
   "outputs": [],
   "source": [
    "titanic_cab.loc[61, 'Embarked'] = 'C'"
   ]
  },
  {
   "cell_type": "code",
   "execution_count": 9,
   "id": "af3c7bc0",
   "metadata": {
    "execution": {
     "iopub.execute_input": "2024-11-16T18:49:47.282832Z",
     "iopub.status.busy": "2024-11-16T18:49:47.282454Z",
     "iopub.status.idle": "2024-11-16T18:49:47.304549Z",
     "shell.execute_reply": "2024-11-16T18:49:47.303354Z"
    },
    "papermill": {
     "duration": 0.033602,
     "end_time": "2024-11-16T18:49:47.306965",
     "exception": false,
     "start_time": "2024-11-16T18:49:47.273363",
     "status": "completed"
    },
    "tags": []
   },
   "outputs": [
    {
     "data": {
      "text/html": [
       "<div>\n",
       "<style scoped>\n",
       "    .dataframe tbody tr th:only-of-type {\n",
       "        vertical-align: middle;\n",
       "    }\n",
       "\n",
       "    .dataframe tbody tr th {\n",
       "        vertical-align: top;\n",
       "    }\n",
       "\n",
       "    .dataframe thead th {\n",
       "        text-align: right;\n",
       "    }\n",
       "</style>\n",
       "<table border=\"1\" class=\"dataframe\">\n",
       "  <thead>\n",
       "    <tr style=\"text-align: right;\">\n",
       "      <th></th>\n",
       "      <th>PassengerId</th>\n",
       "      <th>Survived</th>\n",
       "      <th>Pclass</th>\n",
       "      <th>Name</th>\n",
       "      <th>Sex</th>\n",
       "      <th>Age</th>\n",
       "      <th>SibSp</th>\n",
       "      <th>Parch</th>\n",
       "      <th>Ticket</th>\n",
       "      <th>Fare</th>\n",
       "      <th>Cabin</th>\n",
       "      <th>Embarked</th>\n",
       "    </tr>\n",
       "  </thead>\n",
       "  <tbody>\n",
       "    <tr>\n",
       "      <th>319</th>\n",
       "      <td>320</td>\n",
       "      <td>1</td>\n",
       "      <td>1</td>\n",
       "      <td>Spedden, Mrs. Frederic Oakley (Margaretta Corn...</td>\n",
       "      <td>female</td>\n",
       "      <td>40.0</td>\n",
       "      <td>1</td>\n",
       "      <td>1</td>\n",
       "      <td>16966</td>\n",
       "      <td>134.5</td>\n",
       "      <td>0</td>\n",
       "      <td>C</td>\n",
       "    </tr>\n",
       "    <tr>\n",
       "      <th>829</th>\n",
       "      <td>830</td>\n",
       "      <td>1</td>\n",
       "      <td>1</td>\n",
       "      <td>Stone, Mrs. George Nelson (Martha Evelyn)</td>\n",
       "      <td>female</td>\n",
       "      <td>62.0</td>\n",
       "      <td>0</td>\n",
       "      <td>0</td>\n",
       "      <td>113572</td>\n",
       "      <td>80.0</td>\n",
       "      <td>0</td>\n",
       "      <td>NaN</td>\n",
       "    </tr>\n",
       "  </tbody>\n",
       "</table>\n",
       "</div>"
      ],
      "text/plain": [
       "     PassengerId  Survived  Pclass  \\\n",
       "319          320         1       1   \n",
       "829          830         1       1   \n",
       "\n",
       "                                                  Name     Sex   Age  SibSp  \\\n",
       "319  Spedden, Mrs. Frederic Oakley (Margaretta Corn...  female  40.0      1   \n",
       "829          Stone, Mrs. George Nelson (Martha Evelyn)  female  62.0      0   \n",
       "\n",
       "     Parch  Ticket   Fare  Cabin Embarked  \n",
       "319      1   16966  134.5      0        C  \n",
       "829      0  113572   80.0      0      NaN  "
      ]
     },
     "execution_count": 9,
     "metadata": {},
     "output_type": "execute_result"
    }
   ],
   "source": [
    "name_filter = titanic_cab['Name'].str.contains('Stone')\n",
    "titanic_cab[name_filter]"
   ]
  },
  {
   "cell_type": "code",
   "execution_count": 10,
   "id": "74afc56f",
   "metadata": {
    "execution": {
     "iopub.execute_input": "2024-11-16T18:49:47.325643Z",
     "iopub.status.busy": "2024-11-16T18:49:47.325225Z",
     "iopub.status.idle": "2024-11-16T18:49:47.331598Z",
     "shell.execute_reply": "2024-11-16T18:49:47.330426Z"
    },
    "papermill": {
     "duration": 0.018768,
     "end_time": "2024-11-16T18:49:47.334135",
     "exception": false,
     "start_time": "2024-11-16T18:49:47.315367",
     "status": "completed"
    },
    "tags": []
   },
   "outputs": [],
   "source": [
    "titanic_cab.loc[829, 'Embarked'] = titanic_cab['Embarked'].mode()[0]"
   ]
  },
  {
   "cell_type": "code",
   "execution_count": 11,
   "id": "e9505e84",
   "metadata": {
    "execution": {
     "iopub.execute_input": "2024-11-16T18:49:47.351857Z",
     "iopub.status.busy": "2024-11-16T18:49:47.350955Z",
     "iopub.status.idle": "2024-11-16T18:49:47.357528Z",
     "shell.execute_reply": "2024-11-16T18:49:47.356331Z"
    },
    "papermill": {
     "duration": 0.018312,
     "end_time": "2024-11-16T18:49:47.360259",
     "exception": false,
     "start_time": "2024-11-16T18:49:47.341947",
     "status": "completed"
    },
    "tags": []
   },
   "outputs": [],
   "source": [
    "titanic_cab['Age'] = titanic_cab['Age'].fillna(value = titanic_cab['Age'].mean())"
   ]
  },
  {
   "cell_type": "code",
   "execution_count": 12,
   "id": "bbcc5c38",
   "metadata": {
    "execution": {
     "iopub.execute_input": "2024-11-16T18:49:47.377883Z",
     "iopub.status.busy": "2024-11-16T18:49:47.377504Z",
     "iopub.status.idle": "2024-11-16T18:49:47.391135Z",
     "shell.execute_reply": "2024-11-16T18:49:47.389693Z"
    },
    "papermill": {
     "duration": 0.025245,
     "end_time": "2024-11-16T18:49:47.393467",
     "exception": false,
     "start_time": "2024-11-16T18:49:47.368222",
     "status": "completed"
    },
    "tags": []
   },
   "outputs": [
    {
     "name": "stdout",
     "output_type": "stream",
     "text": [
      "<class 'pandas.core.frame.DataFrame'>\n",
      "RangeIndex: 891 entries, 0 to 890\n",
      "Data columns (total 12 columns):\n",
      " #   Column       Non-Null Count  Dtype  \n",
      "---  ------       --------------  -----  \n",
      " 0   PassengerId  891 non-null    int64  \n",
      " 1   Survived     891 non-null    int64  \n",
      " 2   Pclass       891 non-null    int64  \n",
      " 3   Name         891 non-null    object \n",
      " 4   Sex          891 non-null    object \n",
      " 5   Age          891 non-null    float64\n",
      " 6   SibSp        891 non-null    int64  \n",
      " 7   Parch        891 non-null    int64  \n",
      " 8   Ticket       891 non-null    object \n",
      " 9   Fare         891 non-null    float64\n",
      " 10  Cabin        891 non-null    int64  \n",
      " 11  Embarked     891 non-null    object \n",
      "dtypes: float64(2), int64(6), object(4)\n",
      "memory usage: 83.7+ KB\n"
     ]
    }
   ],
   "source": [
    "titanic_cab.info()"
   ]
  },
  {
   "cell_type": "code",
   "execution_count": 13,
   "id": "5e06f45d",
   "metadata": {
    "execution": {
     "iopub.execute_input": "2024-11-16T18:49:47.411894Z",
     "iopub.status.busy": "2024-11-16T18:49:47.411472Z",
     "iopub.status.idle": "2024-11-16T18:49:47.424449Z",
     "shell.execute_reply": "2024-11-16T18:49:47.423263Z"
    },
    "papermill": {
     "duration": 0.025718,
     "end_time": "2024-11-16T18:49:47.427479",
     "exception": false,
     "start_time": "2024-11-16T18:49:47.401761",
     "status": "completed"
    },
    "tags": []
   },
   "outputs": [],
   "source": [
    "dummies_sex = pd.get_dummies(titanic_cab['Sex'], dtype=int)\n",
    "dummies_pclass = pd.get_dummies(titanic_cab['Pclass'], dtype=int)\n",
    "dummy_cabin = pd.get_dummies(titanic_cab['Cabin'], dummy_na=True, dtype=int)\n",
    "\n",
    "titanic_prp = pd.concat([titanic_cab, dummies_sex, dummies_pclass], axis=1)\n",
    "\n",
    "titanic_prp['Embarked'] = pd.factorize(titanic_prp['Embarked'])[0] + 1"
   ]
  },
  {
   "cell_type": "code",
   "execution_count": 14,
   "id": "a26371ff",
   "metadata": {
    "execution": {
     "iopub.execute_input": "2024-11-16T18:49:47.444912Z",
     "iopub.status.busy": "2024-11-16T18:49:47.444491Z",
     "iopub.status.idle": "2024-11-16T18:49:47.452358Z",
     "shell.execute_reply": "2024-11-16T18:49:47.451156Z"
    },
    "papermill": {
     "duration": 0.020052,
     "end_time": "2024-11-16T18:49:47.455472",
     "exception": false,
     "start_time": "2024-11-16T18:49:47.435420",
     "status": "completed"
    },
    "tags": []
   },
   "outputs": [],
   "source": [
    "titanic_prp = titanic_prp.drop(columns=['Ticket', 'Name', 'Sex', 'Pclass', 'Cabin'])"
   ]
  },
  {
   "cell_type": "code",
   "execution_count": 15,
   "id": "451e6ec4",
   "metadata": {
    "execution": {
     "iopub.execute_input": "2024-11-16T18:49:47.475880Z",
     "iopub.status.busy": "2024-11-16T18:49:47.474819Z",
     "iopub.status.idle": "2024-11-16T18:49:47.485303Z",
     "shell.execute_reply": "2024-11-16T18:49:47.483882Z"
    },
    "papermill": {
     "duration": 0.023324,
     "end_time": "2024-11-16T18:49:47.487801",
     "exception": false,
     "start_time": "2024-11-16T18:49:47.464477",
     "status": "completed"
    },
    "tags": []
   },
   "outputs": [],
   "source": [
    "def scale(df, column, method='normalize'):\n",
    "    if method == 'scale':\n",
    "        return (df[column] - df[column].min()) / (df[column].max() - df[column].min())\n",
    "    return (df[column] - df[column].mean()) / df[column].std()\n",
    "\n",
    "titanic_prp['Age'] = scale(titanic_prp, 'Age', method='scale')\n",
    "titanic_prp['Fare'] = scale(titanic_prp, 'Fare', method='scale')"
   ]
  },
  {
   "cell_type": "code",
   "execution_count": 16,
   "id": "d2f5d282",
   "metadata": {
    "execution": {
     "iopub.execute_input": "2024-11-16T18:49:47.505732Z",
     "iopub.status.busy": "2024-11-16T18:49:47.505304Z",
     "iopub.status.idle": "2024-11-16T18:49:47.522720Z",
     "shell.execute_reply": "2024-11-16T18:49:47.521686Z"
    },
    "papermill": {
     "duration": 0.029288,
     "end_time": "2024-11-16T18:49:47.524928",
     "exception": false,
     "start_time": "2024-11-16T18:49:47.495640",
     "status": "completed"
    },
    "tags": []
   },
   "outputs": [
    {
     "data": {
      "text/html": [
       "<div>\n",
       "<style scoped>\n",
       "    .dataframe tbody tr th:only-of-type {\n",
       "        vertical-align: middle;\n",
       "    }\n",
       "\n",
       "    .dataframe tbody tr th {\n",
       "        vertical-align: top;\n",
       "    }\n",
       "\n",
       "    .dataframe thead th {\n",
       "        text-align: right;\n",
       "    }\n",
       "</style>\n",
       "<table border=\"1\" class=\"dataframe\">\n",
       "  <thead>\n",
       "    <tr style=\"text-align: right;\">\n",
       "      <th></th>\n",
       "      <th>PassengerId</th>\n",
       "      <th>Survived</th>\n",
       "      <th>Age</th>\n",
       "      <th>SibSp</th>\n",
       "      <th>Parch</th>\n",
       "      <th>Fare</th>\n",
       "      <th>Embarked</th>\n",
       "      <th>female</th>\n",
       "      <th>male</th>\n",
       "      <th>1</th>\n",
       "      <th>2</th>\n",
       "      <th>3</th>\n",
       "    </tr>\n",
       "  </thead>\n",
       "  <tbody>\n",
       "    <tr>\n",
       "      <th>0</th>\n",
       "      <td>1</td>\n",
       "      <td>0</td>\n",
       "      <td>0.271174</td>\n",
       "      <td>1</td>\n",
       "      <td>0</td>\n",
       "      <td>0.014151</td>\n",
       "      <td>1</td>\n",
       "      <td>0</td>\n",
       "      <td>1</td>\n",
       "      <td>0</td>\n",
       "      <td>0</td>\n",
       "      <td>1</td>\n",
       "    </tr>\n",
       "    <tr>\n",
       "      <th>1</th>\n",
       "      <td>2</td>\n",
       "      <td>1</td>\n",
       "      <td>0.472229</td>\n",
       "      <td>1</td>\n",
       "      <td>0</td>\n",
       "      <td>0.139136</td>\n",
       "      <td>2</td>\n",
       "      <td>1</td>\n",
       "      <td>0</td>\n",
       "      <td>1</td>\n",
       "      <td>0</td>\n",
       "      <td>0</td>\n",
       "    </tr>\n",
       "    <tr>\n",
       "      <th>2</th>\n",
       "      <td>3</td>\n",
       "      <td>1</td>\n",
       "      <td>0.321438</td>\n",
       "      <td>0</td>\n",
       "      <td>0</td>\n",
       "      <td>0.015469</td>\n",
       "      <td>1</td>\n",
       "      <td>1</td>\n",
       "      <td>0</td>\n",
       "      <td>0</td>\n",
       "      <td>0</td>\n",
       "      <td>1</td>\n",
       "    </tr>\n",
       "    <tr>\n",
       "      <th>3</th>\n",
       "      <td>4</td>\n",
       "      <td>1</td>\n",
       "      <td>0.434531</td>\n",
       "      <td>1</td>\n",
       "      <td>0</td>\n",
       "      <td>0.103644</td>\n",
       "      <td>1</td>\n",
       "      <td>1</td>\n",
       "      <td>0</td>\n",
       "      <td>1</td>\n",
       "      <td>0</td>\n",
       "      <td>0</td>\n",
       "    </tr>\n",
       "    <tr>\n",
       "      <th>4</th>\n",
       "      <td>5</td>\n",
       "      <td>0</td>\n",
       "      <td>0.434531</td>\n",
       "      <td>0</td>\n",
       "      <td>0</td>\n",
       "      <td>0.015713</td>\n",
       "      <td>1</td>\n",
       "      <td>0</td>\n",
       "      <td>1</td>\n",
       "      <td>0</td>\n",
       "      <td>0</td>\n",
       "      <td>1</td>\n",
       "    </tr>\n",
       "    <tr>\n",
       "      <th>...</th>\n",
       "      <td>...</td>\n",
       "      <td>...</td>\n",
       "      <td>...</td>\n",
       "      <td>...</td>\n",
       "      <td>...</td>\n",
       "      <td>...</td>\n",
       "      <td>...</td>\n",
       "      <td>...</td>\n",
       "      <td>...</td>\n",
       "      <td>...</td>\n",
       "      <td>...</td>\n",
       "      <td>...</td>\n",
       "    </tr>\n",
       "    <tr>\n",
       "      <th>886</th>\n",
       "      <td>887</td>\n",
       "      <td>0</td>\n",
       "      <td>0.334004</td>\n",
       "      <td>0</td>\n",
       "      <td>0</td>\n",
       "      <td>0.025374</td>\n",
       "      <td>1</td>\n",
       "      <td>0</td>\n",
       "      <td>1</td>\n",
       "      <td>0</td>\n",
       "      <td>1</td>\n",
       "      <td>0</td>\n",
       "    </tr>\n",
       "    <tr>\n",
       "      <th>887</th>\n",
       "      <td>888</td>\n",
       "      <td>1</td>\n",
       "      <td>0.233476</td>\n",
       "      <td>0</td>\n",
       "      <td>0</td>\n",
       "      <td>0.058556</td>\n",
       "      <td>1</td>\n",
       "      <td>1</td>\n",
       "      <td>0</td>\n",
       "      <td>1</td>\n",
       "      <td>0</td>\n",
       "      <td>0</td>\n",
       "    </tr>\n",
       "    <tr>\n",
       "      <th>888</th>\n",
       "      <td>889</td>\n",
       "      <td>0</td>\n",
       "      <td>0.367921</td>\n",
       "      <td>1</td>\n",
       "      <td>2</td>\n",
       "      <td>0.045771</td>\n",
       "      <td>1</td>\n",
       "      <td>1</td>\n",
       "      <td>0</td>\n",
       "      <td>0</td>\n",
       "      <td>0</td>\n",
       "      <td>1</td>\n",
       "    </tr>\n",
       "    <tr>\n",
       "      <th>889</th>\n",
       "      <td>890</td>\n",
       "      <td>1</td>\n",
       "      <td>0.321438</td>\n",
       "      <td>0</td>\n",
       "      <td>0</td>\n",
       "      <td>0.058556</td>\n",
       "      <td>2</td>\n",
       "      <td>0</td>\n",
       "      <td>1</td>\n",
       "      <td>1</td>\n",
       "      <td>0</td>\n",
       "      <td>0</td>\n",
       "    </tr>\n",
       "    <tr>\n",
       "      <th>890</th>\n",
       "      <td>891</td>\n",
       "      <td>0</td>\n",
       "      <td>0.396833</td>\n",
       "      <td>0</td>\n",
       "      <td>0</td>\n",
       "      <td>0.015127</td>\n",
       "      <td>3</td>\n",
       "      <td>0</td>\n",
       "      <td>1</td>\n",
       "      <td>0</td>\n",
       "      <td>0</td>\n",
       "      <td>1</td>\n",
       "    </tr>\n",
       "  </tbody>\n",
       "</table>\n",
       "<p>891 rows × 12 columns</p>\n",
       "</div>"
      ],
      "text/plain": [
       "     PassengerId  Survived       Age  SibSp  Parch      Fare  Embarked  \\\n",
       "0              1         0  0.271174      1      0  0.014151         1   \n",
       "1              2         1  0.472229      1      0  0.139136         2   \n",
       "2              3         1  0.321438      0      0  0.015469         1   \n",
       "3              4         1  0.434531      1      0  0.103644         1   \n",
       "4              5         0  0.434531      0      0  0.015713         1   \n",
       "..           ...       ...       ...    ...    ...       ...       ...   \n",
       "886          887         0  0.334004      0      0  0.025374         1   \n",
       "887          888         1  0.233476      0      0  0.058556         1   \n",
       "888          889         0  0.367921      1      2  0.045771         1   \n",
       "889          890         1  0.321438      0      0  0.058556         2   \n",
       "890          891         0  0.396833      0      0  0.015127         3   \n",
       "\n",
       "     female  male  1  2  3  \n",
       "0         0     1  0  0  1  \n",
       "1         1     0  1  0  0  \n",
       "2         1     0  0  0  1  \n",
       "3         1     0  1  0  0  \n",
       "4         0     1  0  0  1  \n",
       "..      ...   ... .. .. ..  \n",
       "886       0     1  0  1  0  \n",
       "887       1     0  1  0  0  \n",
       "888       1     0  0  0  1  \n",
       "889       0     1  1  0  0  \n",
       "890       0     1  0  0  1  \n",
       "\n",
       "[891 rows x 12 columns]"
      ]
     },
     "execution_count": 16,
     "metadata": {},
     "output_type": "execute_result"
    }
   ],
   "source": [
    "titanic_prp"
   ]
  },
  {
   "cell_type": "code",
   "execution_count": 17,
   "id": "e51c9060",
   "metadata": {
    "execution": {
     "iopub.execute_input": "2024-11-16T18:49:47.543163Z",
     "iopub.status.busy": "2024-11-16T18:49:47.542756Z",
     "iopub.status.idle": "2024-11-16T18:49:47.550227Z",
     "shell.execute_reply": "2024-11-16T18:49:47.549182Z"
    },
    "papermill": {
     "duration": 0.019738,
     "end_time": "2024-11-16T18:49:47.553008",
     "exception": false,
     "start_time": "2024-11-16T18:49:47.533270",
     "status": "completed"
    },
    "tags": []
   },
   "outputs": [],
   "source": [
    "X = np.array(titanic_prp.drop(columns=['PassengerId', 'Survived']))\n",
    "y = np.array(titanic_prp['Survived'])"
   ]
  },
  {
   "cell_type": "code",
   "execution_count": 18,
   "id": "eafdcfdd",
   "metadata": {
    "execution": {
     "iopub.execute_input": "2024-11-16T18:49:47.572260Z",
     "iopub.status.busy": "2024-11-16T18:49:47.571763Z",
     "iopub.status.idle": "2024-11-16T18:49:47.579651Z",
     "shell.execute_reply": "2024-11-16T18:49:47.578468Z"
    },
    "papermill": {
     "duration": 0.020998,
     "end_time": "2024-11-16T18:49:47.582693",
     "exception": false,
     "start_time": "2024-11-16T18:49:47.561695",
     "status": "completed"
    },
    "tags": []
   },
   "outputs": [],
   "source": [
    "X_train, X_, y_train, y_ = train_test_split(X, y, test_size=0.1)\n",
    "X_val, X_test, y_val, y_test = train_test_split(X_, y_, test_size=0.5)"
   ]
  },
  {
   "cell_type": "code",
   "execution_count": 19,
   "id": "04f16937",
   "metadata": {
    "execution": {
     "iopub.execute_input": "2024-11-16T18:49:47.601254Z",
     "iopub.status.busy": "2024-11-16T18:49:47.600828Z",
     "iopub.status.idle": "2024-11-16T18:49:47.606506Z",
     "shell.execute_reply": "2024-11-16T18:49:47.605189Z"
    },
    "papermill": {
     "duration": 0.017414,
     "end_time": "2024-11-16T18:49:47.608804",
     "exception": false,
     "start_time": "2024-11-16T18:49:47.591390",
     "status": "completed"
    },
    "tags": []
   },
   "outputs": [],
   "source": [
    "def feature_importance(model, features_names):\n",
    "    return pd.DataFrame({'Feature': features_names, 'Importance': model.coef_.tolist()[0]}).set_index('Feature')"
   ]
  },
  {
   "cell_type": "code",
   "execution_count": 20,
   "id": "45f95bf9",
   "metadata": {
    "execution": {
     "iopub.execute_input": "2024-11-16T18:49:47.626857Z",
     "iopub.status.busy": "2024-11-16T18:49:47.626491Z",
     "iopub.status.idle": "2024-11-16T18:49:52.847958Z",
     "shell.execute_reply": "2024-11-16T18:49:52.846686Z"
    },
    "papermill": {
     "duration": 5.233604,
     "end_time": "2024-11-16T18:49:52.850701",
     "exception": false,
     "start_time": "2024-11-16T18:49:47.617097",
     "status": "completed"
    },
    "tags": []
   },
   "outputs": [
    {
     "name": "stdout",
     "output_type": "stream",
     "text": [
      "0.8222222222222222 [0.66666667 0.55555556 0.66666667 0.88888889 1.        ]\n"
     ]
    }
   ],
   "source": [
    "from sklearn.ensemble import GradientBoostingClassifier, RandomForestClassifier, HistGradientBoostingClassifier\n",
    "\n",
    "boost = GradientBoostingClassifier(n_estimators=1000, learning_rate=0.06, max_depth=5, random_state=0)\n",
    "\n",
    "boost = boost.fit(X_train, y_train)\n",
    "\n",
    "print(boost.score(X_test, y_test), cross_val_score(boost, X_val, y_val))"
   ]
  },
  {
   "cell_type": "code",
   "execution_count": 21,
   "id": "ae5f28c8",
   "metadata": {
    "execution": {
     "iopub.execute_input": "2024-11-16T18:49:52.869007Z",
     "iopub.status.busy": "2024-11-16T18:49:52.868641Z",
     "iopub.status.idle": "2024-11-16T18:49:53.434270Z",
     "shell.execute_reply": "2024-11-16T18:49:53.433187Z"
    },
    "papermill": {
     "duration": 0.577583,
     "end_time": "2024-11-16T18:49:53.436687",
     "exception": false,
     "start_time": "2024-11-16T18:49:52.859104",
     "status": "completed"
    },
    "tags": []
   },
   "outputs": [
    {
     "name": "stdout",
     "output_type": "stream",
     "text": [
      "0.8444444444444444 [0.77777778 0.66666667 0.66666667 0.66666667 0.66666667]\n"
     ]
    }
   ],
   "source": [
    "hist = HistGradientBoostingClassifier()\n",
    "\n",
    "hist = hist.fit(X_train, y_train)\n",
    "\n",
    "print(hist.score(X_test, y_test), cross_val_score(hist, X_val, y_val))"
   ]
  },
  {
   "cell_type": "code",
   "execution_count": 22,
   "id": "88ef6ccb",
   "metadata": {
    "execution": {
     "iopub.execute_input": "2024-11-16T18:49:53.456028Z",
     "iopub.status.busy": "2024-11-16T18:49:53.455632Z",
     "iopub.status.idle": "2024-11-16T18:51:33.685819Z",
     "shell.execute_reply": "2024-11-16T18:51:33.684528Z"
    },
    "papermill": {
     "duration": 100.251474,
     "end_time": "2024-11-16T18:51:33.697341",
     "exception": false,
     "start_time": "2024-11-16T18:49:53.445867",
     "status": "completed"
    },
    "tags": []
   },
   "outputs": [
    {
     "name": "stdout",
     "output_type": "stream",
     "text": [
      "0.8666666666666667 [0.77777778 0.66666667 0.77777778 0.77777778 1.        ]\n"
     ]
    }
   ],
   "source": [
    "forest = RandomForestClassifier(n_estimators=10000, max_depth=6, random_state=0)\n",
    "\n",
    "forest = forest.fit(X_train, y_train)\n",
    "\n",
    "print(forest.score(X_test, y_test), cross_val_score(forest, X_val, y_val))"
   ]
  },
  {
   "cell_type": "code",
   "execution_count": 23,
   "id": "ebd2946f",
   "metadata": {
    "execution": {
     "iopub.execute_input": "2024-11-16T18:51:33.715645Z",
     "iopub.status.busy": "2024-11-16T18:51:33.715242Z",
     "iopub.status.idle": "2024-11-16T18:51:33.728204Z",
     "shell.execute_reply": "2024-11-16T18:51:33.726593Z"
    },
    "papermill": {
     "duration": 0.025479,
     "end_time": "2024-11-16T18:51:33.731109",
     "exception": false,
     "start_time": "2024-11-16T18:51:33.705630",
     "status": "completed"
    },
    "tags": []
   },
   "outputs": [
    {
     "name": "stdout",
     "output_type": "stream",
     "text": [
      "<class 'pandas.core.frame.DataFrame'>\n",
      "RangeIndex: 418 entries, 0 to 417\n",
      "Data columns (total 11 columns):\n",
      " #   Column       Non-Null Count  Dtype  \n",
      "---  ------       --------------  -----  \n",
      " 0   PassengerId  418 non-null    int64  \n",
      " 1   Pclass       418 non-null    int64  \n",
      " 2   Name         418 non-null    object \n",
      " 3   Sex          418 non-null    object \n",
      " 4   Age          332 non-null    float64\n",
      " 5   SibSp        418 non-null    int64  \n",
      " 6   Parch        418 non-null    int64  \n",
      " 7   Ticket       418 non-null    object \n",
      " 8   Fare         417 non-null    float64\n",
      " 9   Cabin        91 non-null     object \n",
      " 10  Embarked     418 non-null    object \n",
      "dtypes: float64(2), int64(4), object(5)\n",
      "memory usage: 36.0+ KB\n"
     ]
    }
   ],
   "source": [
    "sub_set.info()"
   ]
  },
  {
   "cell_type": "code",
   "execution_count": 24,
   "id": "215ad64b",
   "metadata": {
    "execution": {
     "iopub.execute_input": "2024-11-16T18:51:33.751645Z",
     "iopub.status.busy": "2024-11-16T18:51:33.751174Z",
     "iopub.status.idle": "2024-11-16T18:51:33.770033Z",
     "shell.execute_reply": "2024-11-16T18:51:33.768652Z"
    },
    "papermill": {
     "duration": 0.032042,
     "end_time": "2024-11-16T18:51:33.772781",
     "exception": false,
     "start_time": "2024-11-16T18:51:33.740739",
     "status": "completed"
    },
    "tags": []
   },
   "outputs": [],
   "source": [
    "sub_set_p = sub_set\n",
    "sub_set_p['Cabin'] = sub_set_p['Cabin'].isnull().astype('int64')\n",
    "sub_set_p['Age'] = sub_set_p['Age'].fillna(value = titanic_cab['Age'].mean())\n",
    "sub_set_p['Fare'] = sub_set_p['Fare'].fillna(value = titanic_cab['Fare'].mean())\n",
    "dummies_sex = pd.get_dummies(sub_set_p['Sex'], dtype=int)\n",
    "dummies_pclass = pd.get_dummies(sub_set_p['Pclass'], dtype=int)\n",
    "dummy_cabin = pd.get_dummies(sub_set_p['Cabin'], dummy_na=True, dtype=int)\n",
    "\n",
    "\n",
    "sub_set_p = pd.concat([sub_set_p, dummies_sex, dummies_pclass], axis=1)\n",
    "\n",
    "sub_set_p['Embarked'] = pd.factorize(sub_set_p['Embarked'])[0] + 1\n",
    "\n",
    "sub_set_p = sub_set_p.drop(columns=['Ticket', 'Name', 'Sex', 'Pclass', 'Cabin'])\n",
    "\n",
    "sub_set_p['Age'] = scale(sub_set_p, 'Age', method='scale')\n",
    "sub_set_p['Fare'] = scale(sub_set_p, 'Fare', method='scale')"
   ]
  },
  {
   "cell_type": "code",
   "execution_count": 25,
   "id": "cd72567d",
   "metadata": {
    "execution": {
     "iopub.execute_input": "2024-11-16T18:51:33.791678Z",
     "iopub.status.busy": "2024-11-16T18:51:33.791247Z",
     "iopub.status.idle": "2024-11-16T18:51:33.807705Z",
     "shell.execute_reply": "2024-11-16T18:51:33.806560Z"
    },
    "papermill": {
     "duration": 0.028554,
     "end_time": "2024-11-16T18:51:33.809962",
     "exception": false,
     "start_time": "2024-11-16T18:51:33.781408",
     "status": "completed"
    },
    "tags": []
   },
   "outputs": [
    {
     "data": {
      "text/html": [
       "<div>\n",
       "<style scoped>\n",
       "    .dataframe tbody tr th:only-of-type {\n",
       "        vertical-align: middle;\n",
       "    }\n",
       "\n",
       "    .dataframe tbody tr th {\n",
       "        vertical-align: top;\n",
       "    }\n",
       "\n",
       "    .dataframe thead th {\n",
       "        text-align: right;\n",
       "    }\n",
       "</style>\n",
       "<table border=\"1\" class=\"dataframe\">\n",
       "  <thead>\n",
       "    <tr style=\"text-align: right;\">\n",
       "      <th></th>\n",
       "      <th>PassengerId</th>\n",
       "      <th>Age</th>\n",
       "      <th>SibSp</th>\n",
       "      <th>Parch</th>\n",
       "      <th>Fare</th>\n",
       "      <th>Embarked</th>\n",
       "      <th>female</th>\n",
       "      <th>male</th>\n",
       "      <th>1</th>\n",
       "      <th>2</th>\n",
       "      <th>3</th>\n",
       "    </tr>\n",
       "  </thead>\n",
       "  <tbody>\n",
       "    <tr>\n",
       "      <th>0</th>\n",
       "      <td>892</td>\n",
       "      <td>0.452723</td>\n",
       "      <td>0</td>\n",
       "      <td>0</td>\n",
       "      <td>0.015282</td>\n",
       "      <td>1</td>\n",
       "      <td>0</td>\n",
       "      <td>1</td>\n",
       "      <td>0</td>\n",
       "      <td>0</td>\n",
       "      <td>1</td>\n",
       "    </tr>\n",
       "    <tr>\n",
       "      <th>1</th>\n",
       "      <td>893</td>\n",
       "      <td>0.617566</td>\n",
       "      <td>1</td>\n",
       "      <td>0</td>\n",
       "      <td>0.013663</td>\n",
       "      <td>2</td>\n",
       "      <td>1</td>\n",
       "      <td>0</td>\n",
       "      <td>0</td>\n",
       "      <td>0</td>\n",
       "      <td>1</td>\n",
       "    </tr>\n",
       "    <tr>\n",
       "      <th>2</th>\n",
       "      <td>894</td>\n",
       "      <td>0.815377</td>\n",
       "      <td>0</td>\n",
       "      <td>0</td>\n",
       "      <td>0.018909</td>\n",
       "      <td>1</td>\n",
       "      <td>0</td>\n",
       "      <td>1</td>\n",
       "      <td>0</td>\n",
       "      <td>1</td>\n",
       "      <td>0</td>\n",
       "    </tr>\n",
       "    <tr>\n",
       "      <th>3</th>\n",
       "      <td>895</td>\n",
       "      <td>0.353818</td>\n",
       "      <td>0</td>\n",
       "      <td>0</td>\n",
       "      <td>0.016908</td>\n",
       "      <td>2</td>\n",
       "      <td>0</td>\n",
       "      <td>1</td>\n",
       "      <td>0</td>\n",
       "      <td>0</td>\n",
       "      <td>1</td>\n",
       "    </tr>\n",
       "    <tr>\n",
       "      <th>4</th>\n",
       "      <td>896</td>\n",
       "      <td>0.287881</td>\n",
       "      <td>1</td>\n",
       "      <td>1</td>\n",
       "      <td>0.023984</td>\n",
       "      <td>2</td>\n",
       "      <td>1</td>\n",
       "      <td>0</td>\n",
       "      <td>0</td>\n",
       "      <td>0</td>\n",
       "      <td>1</td>\n",
       "    </tr>\n",
       "    <tr>\n",
       "      <th>...</th>\n",
       "      <td>...</td>\n",
       "      <td>...</td>\n",
       "      <td>...</td>\n",
       "      <td>...</td>\n",
       "      <td>...</td>\n",
       "      <td>...</td>\n",
       "      <td>...</td>\n",
       "      <td>...</td>\n",
       "      <td>...</td>\n",
       "      <td>...</td>\n",
       "      <td>...</td>\n",
       "    </tr>\n",
       "    <tr>\n",
       "      <th>413</th>\n",
       "      <td>1305</td>\n",
       "      <td>0.389412</td>\n",
       "      <td>0</td>\n",
       "      <td>0</td>\n",
       "      <td>0.015713</td>\n",
       "      <td>2</td>\n",
       "      <td>0</td>\n",
       "      <td>1</td>\n",
       "      <td>0</td>\n",
       "      <td>0</td>\n",
       "      <td>1</td>\n",
       "    </tr>\n",
       "    <tr>\n",
       "      <th>414</th>\n",
       "      <td>1306</td>\n",
       "      <td>0.512066</td>\n",
       "      <td>0</td>\n",
       "      <td>0</td>\n",
       "      <td>0.212559</td>\n",
       "      <td>3</td>\n",
       "      <td>1</td>\n",
       "      <td>0</td>\n",
       "      <td>1</td>\n",
       "      <td>0</td>\n",
       "      <td>0</td>\n",
       "    </tr>\n",
       "    <tr>\n",
       "      <th>415</th>\n",
       "      <td>1307</td>\n",
       "      <td>0.505473</td>\n",
       "      <td>0</td>\n",
       "      <td>0</td>\n",
       "      <td>0.014151</td>\n",
       "      <td>2</td>\n",
       "      <td>0</td>\n",
       "      <td>1</td>\n",
       "      <td>0</td>\n",
       "      <td>0</td>\n",
       "      <td>1</td>\n",
       "    </tr>\n",
       "    <tr>\n",
       "      <th>416</th>\n",
       "      <td>1308</td>\n",
       "      <td>0.389412</td>\n",
       "      <td>0</td>\n",
       "      <td>0</td>\n",
       "      <td>0.015713</td>\n",
       "      <td>2</td>\n",
       "      <td>0</td>\n",
       "      <td>1</td>\n",
       "      <td>0</td>\n",
       "      <td>0</td>\n",
       "      <td>1</td>\n",
       "    </tr>\n",
       "    <tr>\n",
       "      <th>417</th>\n",
       "      <td>1309</td>\n",
       "      <td>0.389412</td>\n",
       "      <td>1</td>\n",
       "      <td>1</td>\n",
       "      <td>0.043640</td>\n",
       "      <td>3</td>\n",
       "      <td>0</td>\n",
       "      <td>1</td>\n",
       "      <td>0</td>\n",
       "      <td>0</td>\n",
       "      <td>1</td>\n",
       "    </tr>\n",
       "  </tbody>\n",
       "</table>\n",
       "<p>418 rows × 11 columns</p>\n",
       "</div>"
      ],
      "text/plain": [
       "     PassengerId       Age  SibSp  Parch      Fare  Embarked  female  male  1  \\\n",
       "0            892  0.452723      0      0  0.015282         1       0     1  0   \n",
       "1            893  0.617566      1      0  0.013663         2       1     0  0   \n",
       "2            894  0.815377      0      0  0.018909         1       0     1  0   \n",
       "3            895  0.353818      0      0  0.016908         2       0     1  0   \n",
       "4            896  0.287881      1      1  0.023984         2       1     0  0   \n",
       "..           ...       ...    ...    ...       ...       ...     ...   ... ..   \n",
       "413         1305  0.389412      0      0  0.015713         2       0     1  0   \n",
       "414         1306  0.512066      0      0  0.212559         3       1     0  1   \n",
       "415         1307  0.505473      0      0  0.014151         2       0     1  0   \n",
       "416         1308  0.389412      0      0  0.015713         2       0     1  0   \n",
       "417         1309  0.389412      1      1  0.043640         3       0     1  0   \n",
       "\n",
       "     2  3  \n",
       "0    0  1  \n",
       "1    0  1  \n",
       "2    1  0  \n",
       "3    0  1  \n",
       "4    0  1  \n",
       "..  .. ..  \n",
       "413  0  1  \n",
       "414  0  0  \n",
       "415  0  1  \n",
       "416  0  1  \n",
       "417  0  1  \n",
       "\n",
       "[418 rows x 11 columns]"
      ]
     },
     "execution_count": 25,
     "metadata": {},
     "output_type": "execute_result"
    }
   ],
   "source": [
    "sub_set_p"
   ]
  },
  {
   "cell_type": "code",
   "execution_count": 26,
   "id": "944d6076",
   "metadata": {
    "execution": {
     "iopub.execute_input": "2024-11-16T18:51:33.830326Z",
     "iopub.status.busy": "2024-11-16T18:51:33.829140Z",
     "iopub.status.idle": "2024-11-16T18:51:33.835574Z",
     "shell.execute_reply": "2024-11-16T18:51:33.834047Z"
    },
    "papermill": {
     "duration": 0.019174,
     "end_time": "2024-11-16T18:51:33.838154",
     "exception": false,
     "start_time": "2024-11-16T18:51:33.818980",
     "status": "completed"
    },
    "tags": []
   },
   "outputs": [],
   "source": [
    "id = np.array(sub_set_p['PassengerId'])"
   ]
  },
  {
   "cell_type": "code",
   "execution_count": 27,
   "id": "c8dba253",
   "metadata": {
    "execution": {
     "iopub.execute_input": "2024-11-16T18:51:33.858003Z",
     "iopub.status.busy": "2024-11-16T18:51:33.857609Z",
     "iopub.status.idle": "2024-11-16T18:51:33.865016Z",
     "shell.execute_reply": "2024-11-16T18:51:33.863733Z"
    },
    "papermill": {
     "duration": 0.020373,
     "end_time": "2024-11-16T18:51:33.867779",
     "exception": false,
     "start_time": "2024-11-16T18:51:33.847406",
     "status": "completed"
    },
    "tags": []
   },
   "outputs": [],
   "source": [
    "sub_set_p.drop(['PassengerId'], axis=1, inplace=True)"
   ]
  },
  {
   "cell_type": "code",
   "execution_count": 28,
   "id": "41c7f167",
   "metadata": {
    "execution": {
     "iopub.execute_input": "2024-11-16T18:51:33.890120Z",
     "iopub.status.busy": "2024-11-16T18:51:33.889223Z",
     "iopub.status.idle": "2024-11-16T18:51:33.895742Z",
     "shell.execute_reply": "2024-11-16T18:51:33.894153Z"
    },
    "papermill": {
     "duration": 0.020844,
     "end_time": "2024-11-16T18:51:33.898373",
     "exception": false,
     "start_time": "2024-11-16T18:51:33.877529",
     "status": "completed"
    },
    "tags": []
   },
   "outputs": [],
   "source": [
    "X_sub = np.array(sub_set_p)"
   ]
  },
  {
   "cell_type": "code",
   "execution_count": 29,
   "id": "f64911e1",
   "metadata": {
    "execution": {
     "iopub.execute_input": "2024-11-16T18:51:33.918781Z",
     "iopub.status.busy": "2024-11-16T18:51:33.918387Z",
     "iopub.status.idle": "2024-11-16T18:51:54.175330Z",
     "shell.execute_reply": "2024-11-16T18:51:54.173974Z"
    },
    "papermill": {
     "duration": 20.270141,
     "end_time": "2024-11-16T18:51:54.178195",
     "exception": false,
     "start_time": "2024-11-16T18:51:33.908054",
     "status": "completed"
    },
    "tags": []
   },
   "outputs": [],
   "source": [
    "forest = RandomForestClassifier(n_estimators=10000, max_depth=6, random_state=0)\n",
    "\n",
    "model = forest.fit(X, y)\n",
    "\n",
    "predictions = model.predict(X_sub)"
   ]
  },
  {
   "cell_type": "code",
   "execution_count": 30,
   "id": "f0d8bdd3",
   "metadata": {
    "execution": {
     "iopub.execute_input": "2024-11-16T18:51:54.198961Z",
     "iopub.status.busy": "2024-11-16T18:51:54.198577Z",
     "iopub.status.idle": "2024-11-16T18:51:54.208861Z",
     "shell.execute_reply": "2024-11-16T18:51:54.207610Z"
    },
    "papermill": {
     "duration": 0.023998,
     "end_time": "2024-11-16T18:51:54.211636",
     "exception": false,
     "start_time": "2024-11-16T18:51:54.187638",
     "status": "completed"
    },
    "tags": []
   },
   "outputs": [],
   "source": [
    "submission = pd.DataFrame({'PassengerId': id, 'Survived': predictions}).set_index('PassengerId')\n",
    "submission.to_csv('titanic.csv')"
   ]
  }
 ],
 "metadata": {
  "kaggle": {
   "accelerator": "none",
   "dataSources": [
    {
     "databundleVersionId": 26502,
     "sourceId": 3136,
     "sourceType": "competition"
    }
   ],
   "dockerImageVersionId": 30786,
   "isGpuEnabled": false,
   "isInternetEnabled": true,
   "language": "python",
   "sourceType": "notebook"
  },
  "kernelspec": {
   "display_name": "Python 3",
   "language": "python",
   "name": "python3"
  },
  "language_info": {
   "codemirror_mode": {
    "name": "ipython",
    "version": 3
   },
   "file_extension": ".py",
   "mimetype": "text/x-python",
   "name": "python",
   "nbconvert_exporter": "python",
   "pygments_lexer": "ipython3",
   "version": "3.10.14"
  },
  "papermill": {
   "default_parameters": {},
   "duration": 133.134348,
   "end_time": "2024-11-16T18:51:54.842489",
   "environment_variables": {},
   "exception": null,
   "input_path": "__notebook__.ipynb",
   "output_path": "__notebook__.ipynb",
   "parameters": {},
   "start_time": "2024-11-16T18:49:41.708141",
   "version": "2.6.0"
  }
 },
 "nbformat": 4,
 "nbformat_minor": 5
}
